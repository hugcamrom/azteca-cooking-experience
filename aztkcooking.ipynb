{
 "cells": [
  {
   "cell_type": "markdown",
   "id": "99da8ce1",
   "metadata": {},
   "source": [
    "🇲🇽 **Azteca Cooking Classes: Real Mexican Food, Real History**\n",
    "\n",
    "**¡Hola! My name is Hugo – welcome to Azteca Cooking Experience.**\n",
    "\n",
    "For over 30 years, I’ve been sharing the richness of Mexican cuisine with people from all walks of life. My 3-class series forms a complete journey through the roots, traditions, and flavours of Mexico. These classes aren’t just about recipes — they’re about culture, language, and connection.\n",
    "\n",
    "---\n",
    "\n",
    "## 🌽 Class 1: Mexican Staples – The Foundation\n",
    "\n",
    "Learn how to make:\n",
    "- Pico de Gallo\n",
    "- Guacamole\n",
    "- Tortillas\n",
    "- Sopes\n",
    "- Salsas\n",
    "- Quesadillas\n",
    "\n",
    "> This class is the backbone of Mexican cuisine. We go step by step, and I include extra tips and mini-recipes throughout. You'll understand how core ingredients interact — like how adding Pico de Gallo to avocado makes guacamole, or how tortilla dough becomes sopes and quesadillas.\n",
    "\n",
    "**Perfect for:** Schools, Spanish classes, team building, family gatherings, birthdays, hen/stag parties.\n",
    "\n",
    "---\n",
    "\n",
    "## 🌶️ Class 2: Mole Enchiladas with Rice and Beans – The Soul\n",
    "\n",
    "We build on the knowledge from Class 1 and dive into deeper flavours:\n",
    "- Mole enchiladas using your handmade tortillas\n",
    "- At least 20 types of salsas to choose from\n",
    "- Homemade stock-based Mexican rice\n",
    "- Traditional refried beans with herbs and onions\n",
    "\n",
    "> This class clears up the biggest mole myth: it’s *not* “Mexican chocolate sauce.” Mole is a rich, complex celebration of ingredients — chillies, nuts, seeds, spices, and yes, cacao in small amounts. It's deeply tied to Mexico's Independence era and served at our most meaningful celebrations.\n",
    "\n",
    "---\n",
    "\n",
    "## 🌽 Class 3: Tamales – Tradition Steamed\n",
    "\n",
    "In this class, you’ll:\n",
    "- Make tamal dough (based on Class 1)\n",
    "- Choose your own salsa + filling combo (meat or veg)\n",
    "- Wrap in corn husks or banana leaves\n",
    "- Steam and enjoy!\n",
    "\n",
    "> Tamales are one of the oldest Mexican dishes still made today. We honour the method, the story, and the joy behind every tamal we unwrap. This class shows how traditional dishes still shape modern Mexican life.\n",
    "\n",
    "---\n",
    "\n",
    "## 🕰️ Why Three Classes? A Historical Journey\n",
    "\n",
    "Each class represents a different period of Mexican culinary history:\n",
    "- **Class 1:** Precolonial (Aztec) – Native ingredients and techniques\n",
    "- **Class 2:** Independence Era – Mole’s birth and national identity\n",
    "- **Class 3:** Modern Mexico – Timeless foods still made today\n",
    "\n",
    "---\n",
    "\n",
    "## 🎉 How to Book or Enquire\n",
    "\n",
    "Classes are available:\n",
    "- Online (Zoom)\n",
    "- In English or Spanish\n",
    "- For individuals, groups, schools, or private events\n",
    "\n",
    "📧 Email: [aztecainfo@azteca.ie](mailto:aztecainfo@azteca.ie)\n",
    "\n",
    "---\n",
    "\n",
    "**Azteca – to enjoy life!**\n"
   ]
  },
  {
   "cell_type": "markdown",
   "id": "a464a9dc",
   "metadata": {},
   "source": [
    "### Azteca Logo\n",
    "![Azteca Logo](assets/images/azteca-logo.png)\n"
   ]
  },
  {
   "cell_type": "markdown",
   "id": "c64fa0aa",
   "metadata": {},
   "source": [
    "### Mexican Ingredients\n",
    "![Ingredients](assets/images/spices_clear.jpg)\n"
   ]
  },
  {
   "cell_type": "markdown",
   "id": "9ca8d334",
   "metadata": {},
   "source": [
    "### Mexican Ingredients\n",
    "![Ingredients](assets\\images\\spices2_clear.JPG)\n"
   ]
  },
  {
   "cell_type": "markdown",
   "id": "9ca5fe55",
   "metadata": {},
   "source": [
    "### Customers cooking\n",
    "![Happy Customers](assets/images/people_cooking.jpg)\n"
   ]
  },
  {
   "cell_type": "markdown",
   "id": "303caa9f",
   "metadata": {},
   "source": [
    "### Mexican Ingredients\n",
    "![Ingredients](assets/images/pastor_tacos.jpg)\n"
   ]
  },
  {
   "cell_type": "markdown",
   "id": "5a200aea",
   "metadata": {},
   "source": [
    "### Mexican Ingredients\n",
    "![Ingredients](assets/images/food_belt.jpg)\n"
   ]
  }
 ],
 "metadata": {
  "language_info": {
   "name": "python"
  }
 },
 "nbformat": 4,
 "nbformat_minor": 5
}
