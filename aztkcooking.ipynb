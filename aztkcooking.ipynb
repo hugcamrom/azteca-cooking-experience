{
 "cells": [
  {
   "cell_type": "markdown",
   "id": "a464a9dc",
   "metadata": {},
   "source": [
    "### Azteca Logo\n",
    "![Azteca Logo](assets/images/azteca-logo.png)\n"
   ]
  },
  {
   "cell_type": "markdown",
   "id": "c64fa0aa",
   "metadata": {},
   "source": [
    "### Mexican Ingredients\n",
    "![Ingredients](assets/images/spices_clear.jpg)\n"
   ]
  },
  {
   "cell_type": "markdown",
   "id": "9ca8d334",
   "metadata": {},
   "source": [
    "### Mexican Ingredients\n",
    "![Ingredients](assets\\images\\spices2_clear.JPG)\n"
   ]
  },
  {
   "cell_type": "markdown",
   "id": "9ca5fe55",
   "metadata": {},
   "source": [
    "### Customers cooking\n",
    "![Happy Customers](assets/images/people_cooking.jpg)\n"
   ]
  },
  {
   "cell_type": "markdown",
   "id": "303caa9f",
   "metadata": {},
   "source": [
    "### Mexican Ingredients\n",
    "![Ingredients](assets/images/pastor_tacos.jpg)\n"
   ]
  },
  {
   "cell_type": "markdown",
   "id": "5a200aea",
   "metadata": {},
   "source": [
    "### Mexican Ingredients\n",
    "![Ingredients](assets/images/food_belt.jpg)\n"
   ]
  }
 ],
 "metadata": {
  "language_info": {
   "name": "python"
  }
 },
 "nbformat": 4,
 "nbformat_minor": 5
}
